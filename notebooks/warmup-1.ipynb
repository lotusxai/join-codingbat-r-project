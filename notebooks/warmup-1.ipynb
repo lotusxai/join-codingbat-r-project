{
 "cells": [
  {
   "cell_type": "markdown",
   "metadata": {},
   "source": [
    "## string_times\n",
    "\n",
    "\n",
    "\n",
    "#### Given a string and a non-negative int n, return a larger string that is n copies of the original string.\n",
    "\n",
    "\n",
    "```\n",
    "string_times('Hi', 2) → 'HiHi'\n",
    "string_times('Hi', 3) → 'HiHiHi'\n",
    "string_times('Hi', 1) → 'Hi'\n",
    "```"
   ]
  },
  {
   "cell_type": "code",
   "execution_count": null,
   "metadata": {},
   "outputs": [],
   "source": [
    "%%writefile string_times.log\n",
    "def string_times(str, n):\n",
    "    return(true)"
   ]
  },
  {
   "cell_type": "markdown",
   "metadata": {},
   "source": [
    "## front_times\n",
    "\n",
    "\n",
    "\n",
    "#### Given a string and a non-negative int n, we'll say that the front of the string is the first 3 chars, or whatever is there if the string is less than length 3. Return n copies of the front;\n",
    "\n",
    "\n",
    "```\n",
    "front_times('Chocolate', 2) → 'ChoCho'\n",
    "front_times('Chocolate', 3) → 'ChoChoCho'\n",
    "front_times('Abc', 3) → 'AbcAbcAbc'\n",
    "```"
   ]
  },
  {
   "cell_type": "code",
   "execution_count": null,
   "metadata": {},
   "outputs": [],
   "source": [
    "%%writefile front_times.log\n",
    "def front_times(str, n):\n",
    "    return(true)"
   ]
  },
  {
   "cell_type": "markdown",
   "metadata": {},
   "source": [
    "## string_bits\n",
    "\n",
    "\n",
    "\n",
    "#### Given a string, return a new string made of every other char starting with the first, so \"Hello\" yields \"Hlo\".\n",
    "\n",
    "\n",
    "```\n",
    "string_bits('Hello') → 'Hlo'\n",
    "string_bits('Hi') → 'H'\n",
    "string_bits('Heeololeo') → 'Hello'\n",
    "```"
   ]
  },
  {
   "cell_type": "code",
   "execution_count": null,
   "metadata": {},
   "outputs": [],
   "source": [
    "%%writefile string_bits.log\n",
    "def string_bits(str):\n",
    "    return(true)"
   ]
  },
  {
   "cell_type": "markdown",
   "metadata": {},
   "source": [
    "## string_splosion\n",
    "\n",
    "\n",
    "\n",
    "#### Given a non-empty string like \"Code\" return a string like \"CcoCodCode\".\n",
    "\n",
    "\n",
    "```\n",
    "string_splosion('Code') → 'CCoCodCode'\n",
    "string_splosion('abc') → 'aababc'\n",
    "string_splosion('ab') → 'aab'\n",
    "```"
   ]
  },
  {
   "cell_type": "code",
   "execution_count": 1,
   "metadata": {},
   "outputs": [
    {
     "ename": "SyntaxError",
     "evalue": "unexpected EOF while parsing (<ipython-input-1-ec118be8752a>, line 1)",
     "output_type": "error",
     "traceback": [
      "\u001b[0;36m  File \u001b[0;32m\"<ipython-input-1-ec118be8752a>\"\u001b[0;36m, line \u001b[0;32m1\u001b[0m\n\u001b[0;31m    def string_splosion(str):\u001b[0m\n\u001b[0m                             ^\u001b[0m\n\u001b[0;31mSyntaxError\u001b[0m\u001b[0;31m:\u001b[0m unexpected EOF while parsing\n"
     ]
    }
   ],
   "source": [
    "%%writefile string_splosion.log\n",
    "def string_splosion(str):\n",
    "    return(true)"
   ]
  },
  {
   "cell_type": "markdown",
   "metadata": {},
   "source": [
    "## last2\n",
    "\n",
    "\n",
    "\n",
    "#### Given a string, return the count of the number of times that a substring length 2 appears in the string and also as the last 2 chars of the string, so \"hixxxhi\" yields 1 (we won't count the end substring).\n",
    "\n",
    "\n",
    "```\n",
    "last2('hixxhi') → 1\n",
    "last2('xaxxaxaxx') → 1\n",
    "last2('axxxaaxx') → 2\n",
    "```"
   ]
  },
  {
   "cell_type": "code",
   "execution_count": null,
   "metadata": {},
   "outputs": [],
   "source": [
    "%%writefile last2.log\n",
    "def last2(str):\n",
    "    return(true)"
   ]
  },
  {
   "cell_type": "markdown",
   "metadata": {},
   "source": [
    "## array_count9\n",
    "\n",
    "\n",
    "\n",
    "#### Given an array of ints, return the number of 9's in the array.\n",
    "\n",
    "\n",
    "\n",
    "```\n",
    "array_count9([1, 2, 9]) → 1\n",
    "array_count9([1, 9, 9]) → 2\n",
    "array_count9([1, 9, 9, 3, 9]) → 3\n",
    "```"
   ]
  },
  {
   "cell_type": "code",
   "execution_count": null,
   "metadata": {},
   "outputs": [],
   "source": [
    "%%writefile array_count9.log\n",
    "def array_count9(nums):\n",
    "    return(true)"
   ]
  },
  {
   "cell_type": "markdown",
   "metadata": {},
   "source": [
    "## array_front9\n",
    "\n",
    "\n",
    "\n",
    "#### Given an array of ints, return True if one of the first 4 elements in the array is a 9. The array length may be less than 4.\n",
    "\n",
    "\n",
    "\n",
    "```\n",
    "array_front9([1, 2, 9, 3, 4]) → True\n",
    "array_front9([1, 2, 3, 4, 9]) → False\n",
    "array_front9([1, 2, 3, 4, 5]) → False\n",
    "```"
   ]
  },
  {
   "cell_type": "code",
   "execution_count": null,
   "metadata": {},
   "outputs": [],
   "source": [
    "%%writefile array_front9.log\n",
    "def array_front9(nums):\n",
    "    return(true)"
   ]
  },
  {
   "cell_type": "markdown",
   "metadata": {},
   "source": [
    "## array123\n",
    "\n",
    "\n",
    "\n",
    "#### Given an array of ints, return True if the sequence of numbers 1, 2, 3 appears in the array somewhere.\n",
    "\n",
    "\n",
    "\n",
    "```\n",
    "array123([1, 1, 2, 3, 1]) → True\n",
    "array123([1, 1, 2, 4, 1]) → False\n",
    "array123([1, 1, 2, 1, 2, 3]) → True\n",
    "```"
   ]
  },
  {
   "cell_type": "code",
   "execution_count": null,
   "metadata": {},
   "outputs": [],
   "source": [
    "%%writefile array123.log\n",
    "def array123(nums):\n",
    "    return(true)"
   ]
  },
  {
   "cell_type": "markdown",
   "metadata": {},
   "source": [
    "## string_match\n",
    "\n",
    "\n",
    "\n",
    "#### Given 2 strings, a and b, return the number of the positions where they contain the same length 2 substring. So \"xxcaazz\" and \"xxbaaz\" yields 3, since the \"xx\", \"aa\", and \"az\" substrings appear in the same place in both strings.\n",
    "\n",
    "\n",
    "\n",
    "```\n",
    "string_match('xxcaazz', 'xxbaaz') → 3\n",
    "string_match('abc', 'abc') → 2\n",
    "string_match('abc', 'axc') → 0\n",
    "```"
   ]
  },
  {
   "cell_type": "code",
   "execution_count": null,
   "metadata": {},
   "outputs": [],
   "source": [
    "%%writefile string_match.log\n",
    "def string_match(a, b):\n",
    "    return(true)"
   ]
  }
 ],
 "metadata": {
  "kernelspec": {
   "display_name": "Python 3",
   "language": "python",
   "name": "python3"
  },
  "language_info": {
   "codemirror_mode": {
    "name": "ipython",
    "version": 3
   },
   "file_extension": ".py",
   "mimetype": "text/x-python",
   "name": "python",
   "nbconvert_exporter": "python",
   "pygments_lexer": "ipython3",
   "version": "3.7.4"
  }
 },
 "nbformat": 4,
 "nbformat_minor": 2
}
